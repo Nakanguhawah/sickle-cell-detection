{
 "cells": [
  {
   "cell_type": "code",
   "execution_count": null,
   "id": "a6654f72",
   "metadata": {
    "_cell_guid": "b1076dfc-b9ad-4769-8c92-a6c4dae69d19",
    "_uuid": "8f2839f25d086af736a60e9eeb907d3b93b6e0e5",
    "execution": {
     "iopub.execute_input": "2024-04-24T08:16:27.279326Z",
     "iopub.status.busy": "2024-04-24T08:16:27.278943Z",
     "iopub.status.idle": "2024-04-24T08:16:28.002718Z",
     "shell.execute_reply": "2024-04-24T08:16:28.001979Z"
    },
    "papermill": {
     "duration": 0.738188,
     "end_time": "2024-04-24T08:16:28.005107",
     "exception": false,
     "start_time": "2024-04-24T08:16:27.266919",
     "status": "completed"
    },
    "tags": []
   },
   "outputs": [
    {
     "ename": "",
     "evalue": "",
     "output_type": "error",
     "traceback": [
      "\u001b[1;31mRunning cells with 'Python 3.10.5' requires the ipykernel package.\n",
      "\u001b[1;31mRun the following command to install 'ipykernel' into the Python environment. \n",
      "\u001b[1;31mCommand: 'c:/Users/yusuf/AppData/Local/Programs/Python/Python310/python.exe -m pip install ipykernel -U --user --force-reinstall'"
     ]
    }
   ],
   "source": [
    "# This Python 3 environment comes with many helpful analytics libraries installed\n",
    "# It is defined by the kaggle/python Docker image: https://github.com/kaggle/docker-python\n",
    "# For example, here's several helpful packages to load\n",
    "\n",
    "import numpy as np # linear algebra\n",
    "import pandas as pd # data processing, CSV file I/O (e.g. pd.read_csv)\n",
    "from PIL import Image\n",
    "import matplotlib.pyplot as plt"
   ]
  },
  {
   "cell_type": "code",
   "execution_count": 3,
   "id": "59bdb1b4",
   "metadata": {
    "execution": {
     "iopub.execute_input": "2024-04-24T08:16:28.027417Z",
     "iopub.status.busy": "2024-04-24T08:16:28.027031Z",
     "iopub.status.idle": "2024-04-24T08:16:28.031054Z",
     "shell.execute_reply": "2024-04-24T08:16:28.030224Z"
    },
    "papermill": {
     "duration": 0.017091,
     "end_time": "2024-04-24T08:16:28.032915",
     "exception": false,
     "start_time": "2024-04-24T08:16:28.015824",
     "status": "completed"
    },
    "tags": []
   },
   "outputs": [],
   "source": [
    "sample_image =\"archive/Positive/Labelled/1.jpg\"\n"
   ]
  },
  {
   "cell_type": "code",
   "execution_count": null,
   "id": "4e0ff93d",
   "metadata": {
    "execution": {
     "iopub.execute_input": "2024-04-24T08:16:28.053827Z",
     "iopub.status.busy": "2024-04-24T08:16:28.053555Z",
     "iopub.status.idle": "2024-04-24T08:16:28.092262Z",
     "shell.execute_reply": "2024-04-24T08:16:28.091342Z"
    },
    "papermill": {
     "duration": 0.051372,
     "end_time": "2024-04-24T08:16:28.094251",
     "exception": false,
     "start_time": "2024-04-24T08:16:28.042879",
     "status": "completed"
    },
    "tags": []
   },
   "outputs": [],
   "source": [
    "image = plt.imread(sample_image)\n",
    "print(image.shape)"
   ]
  },
  {
   "cell_type": "code",
   "execution_count": null,
   "id": "7e2121fb",
   "metadata": {
    "execution": {
     "iopub.execute_input": "2024-04-24T08:16:28.116090Z",
     "iopub.status.busy": "2024-04-24T08:16:28.115276Z",
     "iopub.status.idle": "2024-04-24T08:16:28.620513Z",
     "shell.execute_reply": "2024-04-24T08:16:28.619542Z"
    },
    "papermill": {
     "duration": 0.520093,
     "end_time": "2024-04-24T08:16:28.624338",
     "exception": false,
     "start_time": "2024-04-24T08:16:28.104245",
     "status": "completed"
    },
    "tags": []
   },
   "outputs": [],
   "source": [
    "plt.imshow(image)"
   ]
  },
  {
   "cell_type": "code",
   "execution_count": null,
   "id": "fa661981",
   "metadata": {
    "execution": {
     "iopub.execute_input": "2024-04-24T08:16:28.651474Z",
     "iopub.status.busy": "2024-04-24T08:16:28.651186Z",
     "iopub.status.idle": "2024-04-24T08:16:29.169168Z",
     "shell.execute_reply": "2024-04-24T08:16:29.168355Z"
    },
    "papermill": {
     "duration": 0.536364,
     "end_time": "2024-04-24T08:16:29.173302",
     "exception": false,
     "start_time": "2024-04-24T08:16:28.636938",
     "status": "completed"
    },
    "tags": []
   },
   "outputs": [],
   "source": [
    "neg_image = plt.imread(\"archive/Negative/Clear/1.jpg\")\n",
    "plt.imshow(neg_image)"
   ]
  },
  {
   "cell_type": "code",
   "execution_count": null,
   "id": "2e49b3a0",
   "metadata": {
    "execution": {
     "iopub.execute_input": "2024-04-24T08:16:29.204981Z",
     "iopub.status.busy": "2024-04-24T08:16:29.204691Z",
     "iopub.status.idle": "2024-04-24T08:16:29.375656Z",
     "shell.execute_reply": "2024-04-24T08:16:29.374710Z"
    },
    "papermill": {
     "duration": 0.189097,
     "end_time": "2024-04-24T08:16:29.377593",
     "exception": false,
     "start_time": "2024-04-24T08:16:29.188496",
     "status": "completed"
    },
    "tags": []
   },
   "outputs": [],
   "source": [
    "import os\n",
    "\n",
    "negative_imgs = len(os.listdir(\"archive/Negative/Clear\"))\n",
    "positive_imgs = len(os.listdir(\"archive/Positive/Labelled\"))\n",
    "\n",
    "print(\"total images = \", (negative_imgs + positive_imgs))"
   ]
  },
  {
   "cell_type": "code",
   "execution_count": null,
   "id": "a4c35365",
   "metadata": {
    "execution": {
     "iopub.execute_input": "2024-04-24T08:16:29.408960Z",
     "iopub.status.busy": "2024-04-24T08:16:29.408501Z",
     "iopub.status.idle": "2024-04-24T08:16:29.703778Z",
     "shell.execute_reply": "2024-04-24T08:16:29.702927Z"
    },
    "papermill": {
     "duration": 0.312921,
     "end_time": "2024-04-24T08:16:29.705795",
     "exception": false,
     "start_time": "2024-04-24T08:16:29.392874",
     "status": "completed"
    },
    "tags": []
   },
   "outputs": [],
   "source": [
    "\n",
    "\n",
    "fig, ax = plt.subplots()\n",
    "\n",
    "fruits = ['positive images', 'negative images']\n",
    "counts = [positive_imgs, negative_imgs]\n",
    "bar_labels = ['positive images', 'negative images']\n",
    "bar_colors = ['tab:red', 'tab:blue']\n",
    "\n",
    "ax.bar(fruits, counts, label=bar_labels, color=bar_colors)\n",
    "\n",
    "ax.set_ylabel('Count')\n",
    "ax.set_title('Sickle Cell Data Distribution')\n",
    "ax.legend()\n"
   ]
  },
  {
   "cell_type": "code",
   "execution_count": 8,
   "id": "321767c2",
   "metadata": {
    "execution": {
     "iopub.execute_input": "2024-04-24T08:16:29.738586Z",
     "iopub.status.busy": "2024-04-24T08:16:29.738075Z",
     "iopub.status.idle": "2024-04-24T08:16:29.744958Z",
     "shell.execute_reply": "2024-04-24T08:16:29.744175Z"
    },
    "papermill": {
     "duration": 0.024924,
     "end_time": "2024-04-24T08:16:29.746716",
     "exception": false,
     "start_time": "2024-04-24T08:16:29.721792",
     "status": "completed"
    },
    "tags": []
   },
   "outputs": [],
   "source": [
    "data_df = pd.DataFrame(columns = [\"Image dir\", \"Label\"])"
   ]
  },
  {
   "cell_type": "code",
   "execution_count": 9,
   "id": "e0e2fd2b",
   "metadata": {
    "execution": {
     "iopub.execute_input": "2024-04-24T08:16:29.778927Z",
     "iopub.status.busy": "2024-04-24T08:16:29.778338Z",
     "iopub.status.idle": "2024-04-24T08:16:29.782472Z",
     "shell.execute_reply": "2024-04-24T08:16:29.781676Z"
    },
    "papermill": {
     "duration": 0.022275,
     "end_time": "2024-04-24T08:16:29.784497",
     "exception": false,
     "start_time": "2024-04-24T08:16:29.762222",
     "status": "completed"
    },
    "tags": []
   },
   "outputs": [],
   "source": [
    "positive_img_dir = \"archive/Positive/Labelled\"\n",
    "negative_img_dir =\"archive/Negative/Clear\""
   ]
  },
  {
   "cell_type": "code",
   "execution_count": 10,
   "id": "325d12b6",
   "metadata": {
    "execution": {
     "iopub.execute_input": "2024-04-24T08:16:29.817092Z",
     "iopub.status.busy": "2024-04-24T08:16:29.816650Z",
     "iopub.status.idle": "2024-04-24T08:16:37.484003Z",
     "shell.execute_reply": "2024-04-24T08:16:37.483115Z"
    },
    "papermill": {
     "duration": 7.686352,
     "end_time": "2024-04-24T08:16:37.486485",
     "exception": false,
     "start_time": "2024-04-24T08:16:29.800133",
     "status": "completed"
    },
    "tags": []
   },
   "outputs": [],
   "source": [
    "import os\n",
    "import re\n",
    "import cv2\n",
    "\n",
    "Images = []\n",
    "Labels = []\n",
    "\n",
    "#append in the  postive Images\n",
    "for file_dir, _, files in os.walk(positive_img_dir):\n",
    "    for file in files:\n",
    "        img_file = os.path.join(file_dir, file)\n",
    "        img = cv2.imread(img_file)\n",
    "        img = cv2.resize(img, (255, 255))\n",
    "        Images.append(img)\n",
    "        Labels.append(1)"
   ]
  },
  {
   "cell_type": "code",
   "execution_count": 11,
   "id": "6f0b5200",
   "metadata": {
    "execution": {
     "iopub.execute_input": "2024-04-24T08:16:37.519926Z",
     "iopub.status.busy": "2024-04-24T08:16:37.519616Z",
     "iopub.status.idle": "2024-04-24T08:16:39.936238Z",
     "shell.execute_reply": "2024-04-24T08:16:39.935285Z"
    },
    "papermill": {
     "duration": 2.435512,
     "end_time": "2024-04-24T08:16:39.938606",
     "exception": false,
     "start_time": "2024-04-24T08:16:37.503094",
     "status": "completed"
    },
    "tags": []
   },
   "outputs": [],
   "source": [
    "#append in the negative Images\n",
    "for file_dir, _, files in os.walk(negative_img_dir):\n",
    "    for file in files:\n",
    "        img_file = os.path.join(file_dir, file)\n",
    "        img = cv2.imread(img_file)\n",
    "        img = cv2.resize(img, (255, 255))\n",
    "        Images.append(img)\n",
    "        Labels.append(0)"
   ]
  },
  {
   "cell_type": "code",
   "execution_count": null,
   "id": "bb873d85",
   "metadata": {
    "execution": {
     "iopub.execute_input": "2024-04-24T08:16:39.974199Z",
     "iopub.status.busy": "2024-04-24T08:16:39.973215Z",
     "iopub.status.idle": "2024-04-24T08:16:40.015421Z",
     "shell.execute_reply": "2024-04-24T08:16:40.014353Z"
    },
    "papermill": {
     "duration": 0.061123,
     "end_time": "2024-04-24T08:16:40.017441",
     "exception": false,
     "start_time": "2024-04-24T08:16:39.956318",
     "status": "completed"
    },
    "tags": []
   },
   "outputs": [],
   "source": [
    "Images = np.array(Images)\n",
    "\n",
    "Images.shape"
   ]
  },
  {
   "cell_type": "code",
   "execution_count": null,
   "id": "1e7cc6f0",
   "metadata": {
    "execution": {
     "iopub.execute_input": "2024-04-24T08:16:40.056325Z",
     "iopub.status.busy": "2024-04-24T08:16:40.055996Z",
     "iopub.status.idle": "2024-04-24T08:16:40.421810Z",
     "shell.execute_reply": "2024-04-24T08:16:40.420648Z"
    },
    "papermill": {
     "duration": 0.386727,
     "end_time": "2024-04-24T08:16:40.425624",
     "exception": false,
     "start_time": "2024-04-24T08:16:40.038897",
     "status": "completed"
    },
    "tags": []
   },
   "outputs": [],
   "source": [
    "sample = Images[0]\n",
    "\n",
    "plt.imshow(sample)\n",
    "plt.title(\"Postive\")"
   ]
  },
  {
   "cell_type": "code",
   "execution_count": null,
   "id": "a95ec745",
   "metadata": {
    "execution": {
     "iopub.execute_input": "2024-04-24T08:16:40.465388Z",
     "iopub.status.busy": "2024-04-24T08:16:40.464801Z",
     "iopub.status.idle": "2024-04-24T08:16:40.837187Z",
     "shell.execute_reply": "2024-04-24T08:16:40.836320Z"
    },
    "papermill": {
     "duration": 0.396986,
     "end_time": "2024-04-24T08:16:40.841630",
     "exception": false,
     "start_time": "2024-04-24T08:16:40.444644",
     "status": "completed"
    },
    "tags": []
   },
   "outputs": [],
   "source": [
    "sample = Images[-1]\n",
    "plt.imshow(sample)\n",
    "plt.title(\"Negative\")"
   ]
  },
  {
   "attachments": {},
   "cell_type": "markdown",
   "id": "8c986af4",
   "metadata": {
    "papermill": {
     "duration": 0.021382,
     "end_time": "2024-04-24T08:16:40.884966",
     "exception": false,
     "start_time": "2024-04-24T08:16:40.863584",
     "status": "completed"
    },
    "tags": []
   },
   "source": [
    "# train the model"
   ]
  },
  {
   "cell_type": "code",
   "execution_count": 15,
   "id": "23a1a7a2",
   "metadata": {
    "execution": {
     "iopub.execute_input": "2024-04-24T08:16:40.930107Z",
     "iopub.status.busy": "2024-04-24T08:16:40.929377Z",
     "iopub.status.idle": "2024-04-24T08:16:41.200577Z",
     "shell.execute_reply": "2024-04-24T08:16:41.199741Z"
    },
    "papermill": {
     "duration": 0.296327,
     "end_time": "2024-04-24T08:16:41.203024",
     "exception": false,
     "start_time": "2024-04-24T08:16:40.906697",
     "status": "completed"
    },
    "tags": []
   },
   "outputs": [],
   "source": [
    "X = Images / 255 #scale the data\n",
    "y = Labels"
   ]
  },
  {
   "cell_type": "code",
   "execution_count": 16,
   "id": "e9512d60",
   "metadata": {
    "execution": {
     "iopub.execute_input": "2024-04-24T08:16:41.247581Z",
     "iopub.status.busy": "2024-04-24T08:16:41.247265Z",
     "iopub.status.idle": "2024-04-24T08:16:42.404888Z",
     "shell.execute_reply": "2024-04-24T08:16:42.404143Z"
    },
    "papermill": {
     "duration": 1.182079,
     "end_time": "2024-04-24T08:16:42.407051",
     "exception": false,
     "start_time": "2024-04-24T08:16:41.224972",
     "status": "completed"
    },
    "tags": []
   },
   "outputs": [],
   "source": [
    "from sklearn.model_selection import train_test_split"
   ]
  },
  {
   "cell_type": "code",
   "execution_count": null,
   "id": "0ff2663a",
   "metadata": {
    "execution": {
     "iopub.execute_input": "2024-04-24T08:16:42.452702Z",
     "iopub.status.busy": "2024-04-24T08:16:42.452242Z",
     "iopub.status.idle": "2024-04-24T08:16:42.711363Z",
     "shell.execute_reply": "2024-04-24T08:16:42.710197Z"
    },
    "papermill": {
     "duration": 0.284413,
     "end_time": "2024-04-24T08:16:42.713456",
     "exception": false,
     "start_time": "2024-04-24T08:16:42.429043",
     "status": "completed"
    },
    "tags": []
   },
   "outputs": [],
   "source": [
    "train_X, test_X, train_y, test_y = train_test_split(X, np.array(y), stratify = np.array(y),\n",
    "                                                    random_state = 42,\n",
    "                                                    shuffle = True, test_size = 0.2)\n",
    "\n",
    "train_X.shape, test_X.shape, train_y.shape, test_y.shape"
   ]
  },
  {
   "cell_type": "code",
   "execution_count": null,
   "id": "3c540655",
   "metadata": {
    "execution": {
     "iopub.execute_input": "2024-04-24T08:16:42.759103Z",
     "iopub.status.busy": "2024-04-24T08:16:42.758832Z",
     "iopub.status.idle": "2024-04-24T08:16:42.765657Z",
     "shell.execute_reply": "2024-04-24T08:16:42.764731Z"
    },
    "papermill": {
     "duration": 0.031994,
     "end_time": "2024-04-24T08:16:42.767641",
     "exception": false,
     "start_time": "2024-04-24T08:16:42.735647",
     "status": "completed"
    },
    "tags": []
   },
   "outputs": [],
   "source": [
    "np.unique(train_y, return_counts = True) , np.unique(test_y, return_counts = True)"
   ]
  },
  {
   "attachments": {},
   "cell_type": "markdown",
   "id": "88297b52",
   "metadata": {
    "papermill": {
     "duration": 0.021228,
     "end_time": "2024-04-24T08:16:42.810293",
     "exception": false,
     "start_time": "2024-04-24T08:16:42.789065",
     "status": "completed"
    },
    "tags": []
   },
   "source": [
    "# Model training"
   ]
  },
  {
   "cell_type": "code",
   "execution_count": null,
   "id": "907572a0",
   "metadata": {
    "execution": {
     "iopub.execute_input": "2024-04-24T08:16:42.855577Z",
     "iopub.status.busy": "2024-04-24T08:16:42.855323Z",
     "iopub.status.idle": "2024-04-24T08:16:54.170024Z",
     "shell.execute_reply": "2024-04-24T08:16:54.169019Z"
    },
    "papermill": {
     "duration": 11.339683,
     "end_time": "2024-04-24T08:16:54.172518",
     "exception": false,
     "start_time": "2024-04-24T08:16:42.832835",
     "status": "completed"
    },
    "tags": []
   },
   "outputs": [],
   "source": [
    "from tensorflow import keras"
   ]
  },
  {
   "cell_type": "code",
   "execution_count": 20,
   "id": "7d31d700",
   "metadata": {
    "execution": {
     "iopub.execute_input": "2024-04-24T08:16:54.217522Z",
     "iopub.status.busy": "2024-04-24T08:16:54.216946Z",
     "iopub.status.idle": "2024-04-24T08:16:54.222376Z",
     "shell.execute_reply": "2024-04-24T08:16:54.221407Z"
    },
    "papermill": {
     "duration": 0.029566,
     "end_time": "2024-04-24T08:16:54.224148",
     "exception": false,
     "start_time": "2024-04-24T08:16:54.194582",
     "status": "completed"
    },
    "tags": []
   },
   "outputs": [],
   "source": [
    "# Importing all necessary libraries\n",
    "from keras.models import Sequential\n",
    "from keras.layers import Conv2D, MaxPooling2D\n",
    "from keras.layers import Activation, Dropout, Flatten, Dense\n",
    "\n",
    "img_width, img_height = 255, 255\n",
    "input_shape = (img_width, img_height, 3)"
   ]
  },
  {
   "cell_type": "code",
   "execution_count": null,
   "id": "d2ec55f8",
   "metadata": {
    "execution": {
     "iopub.execute_input": "2024-04-24T08:16:54.268227Z",
     "iopub.status.busy": "2024-04-24T08:16:54.267583Z",
     "iopub.status.idle": "2024-04-24T08:16:55.099221Z",
     "shell.execute_reply": "2024-04-24T08:16:55.098462Z"
    },
    "papermill": {
     "duration": 0.855869,
     "end_time": "2024-04-24T08:16:55.101378",
     "exception": false,
     "start_time": "2024-04-24T08:16:54.245509",
     "status": "completed"
    },
    "tags": []
   },
   "outputs": [],
   "source": [
    "model = Sequential()\n",
    "model.add(Conv2D(32, (2, 2), input_shape=input_shape))\n",
    "model.add(Activation('relu'))\n",
    "model.add(MaxPooling2D(pool_size=(2, 2)))\n",
    "\n",
    "model.add(Conv2D(32, (2, 2)))\n",
    "model.add(Activation('relu'))\n",
    "model.add(MaxPooling2D(pool_size=(2, 2)))\n",
    "\n",
    "model.add(Conv2D(64, (2, 2)))\n",
    "model.add(Activation('relu'))\n",
    "model.add(MaxPooling2D(pool_size=(2, 2)))\n",
    "\n",
    "model.add(Flatten())\n",
    "model.add(Dense(64))\n",
    "model.add(Activation('relu'))\n",
    "model.add(Dropout(0.5))\n",
    "model.add(Dense(1))\n",
    "model.add(Activation('sigmoid'))\n"
   ]
  },
  {
   "cell_type": "code",
   "execution_count": null,
   "id": "63df9c03",
   "metadata": {
    "execution": {
     "iopub.execute_input": "2024-04-24T08:16:55.146287Z",
     "iopub.status.busy": "2024-04-24T08:16:55.145972Z",
     "iopub.status.idle": "2024-04-24T08:16:55.174743Z",
     "shell.execute_reply": "2024-04-24T08:16:55.173954Z"
    },
    "papermill": {
     "duration": 0.05308,
     "end_time": "2024-04-24T08:16:55.176577",
     "exception": false,
     "start_time": "2024-04-24T08:16:55.123497",
     "status": "completed"
    },
    "tags": []
   },
   "outputs": [],
   "source": [
    "model.summary()"
   ]
  },
  {
   "cell_type": "code",
   "execution_count": 23,
   "id": "91cd3d31",
   "metadata": {
    "execution": {
     "iopub.execute_input": "2024-04-24T08:16:55.226781Z",
     "iopub.status.busy": "2024-04-24T08:16:55.226281Z",
     "iopub.status.idle": "2024-04-24T08:16:55.239811Z",
     "shell.execute_reply": "2024-04-24T08:16:55.238959Z"
    },
    "papermill": {
     "duration": 0.040905,
     "end_time": "2024-04-24T08:16:55.241862",
     "exception": false,
     "start_time": "2024-04-24T08:16:55.200957",
     "status": "completed"
    },
    "tags": []
   },
   "outputs": [],
   "source": [
    "model.compile(loss='binary_crossentropy',\n",
    "              optimizer='adam',\n",
    "              metrics=['accuracy'])"
   ]
  },
  {
   "cell_type": "code",
   "execution_count": 24,
   "id": "f6f140a0",
   "metadata": {
    "execution": {
     "iopub.execute_input": "2024-04-24T08:16:55.291179Z",
     "iopub.status.busy": "2024-04-24T08:16:55.290614Z",
     "iopub.status.idle": "2024-04-24T08:16:55.294892Z",
     "shell.execute_reply": "2024-04-24T08:16:55.294105Z"
    },
    "papermill": {
     "duration": 0.030983,
     "end_time": "2024-04-24T08:16:55.296840",
     "exception": false,
     "start_time": "2024-04-24T08:16:55.265857",
     "status": "completed"
    },
    "tags": []
   },
   "outputs": [],
   "source": [
    "# Add a callback to avoid overfitting\n",
    "\n",
    "model_checkpoint = keras.callbacks.ModelCheckpoint(\n",
    "    filepath = \"best_model.keras\",\n",
    "    monitor='val_accuracy',\n",
    "    save_best_only=True\n",
    ")"
   ]
  },
  {
   "cell_type": "code",
   "execution_count": null,
   "id": "0ed8986d",
   "metadata": {
    "execution": {
     "iopub.execute_input": "2024-04-24T08:16:55.345726Z",
     "iopub.status.busy": "2024-04-24T08:16:55.345444Z",
     "iopub.status.idle": "2024-04-24T08:17:15.205488Z",
     "shell.execute_reply": "2024-04-24T08:17:15.204552Z"
    },
    "papermill": {
     "duration": 19.886708,
     "end_time": "2024-04-24T08:17:15.207385",
     "exception": false,
     "start_time": "2024-04-24T08:16:55.320677",
     "status": "completed"
    },
    "tags": []
   },
   "outputs": [],
   "source": [
    "model.fit(train_X, train_y, validation_data = (test_X, test_y),\n",
    "          epochs = 10, callbacks = [model_checkpoint])"
   ]
  },
  {
   "cell_type": "code",
   "execution_count": 26,
   "id": "f2b8d756",
   "metadata": {
    "execution": {
     "iopub.execute_input": "2024-04-24T08:17:15.272149Z",
     "iopub.status.busy": "2024-04-24T08:17:15.271855Z",
     "iopub.status.idle": "2024-04-24T08:17:15.888978Z",
     "shell.execute_reply": "2024-04-24T08:17:15.888204Z"
    },
    "papermill": {
     "duration": 0.651802,
     "end_time": "2024-04-24T08:17:15.891246",
     "exception": false,
     "start_time": "2024-04-24T08:17:15.239444",
     "status": "completed"
    },
    "tags": []
   },
   "outputs": [],
   "source": [
    "best_model = keras.models.load_model(\"best_model.keras\")"
   ]
  },
  {
   "attachments": {},
   "cell_type": "markdown",
   "id": "e0b264d7",
   "metadata": {
    "papermill": {
     "duration": 0.031657,
     "end_time": "2024-04-24T08:17:15.955466",
     "exception": false,
     "start_time": "2024-04-24T08:17:15.923809",
     "status": "completed"
    },
    "tags": []
   },
   "source": [
    "# Test the model"
   ]
  },
  {
   "cell_type": "code",
   "execution_count": null,
   "id": "83593338",
   "metadata": {
    "execution": {
     "iopub.execute_input": "2024-04-24T08:17:16.020058Z",
     "iopub.status.busy": "2024-04-24T08:17:16.019737Z",
     "iopub.status.idle": "2024-04-24T08:17:17.022988Z",
     "shell.execute_reply": "2024-04-24T08:17:17.022198Z"
    },
    "papermill": {
     "duration": 1.038388,
     "end_time": "2024-04-24T08:17:17.025123",
     "exception": false,
     "start_time": "2024-04-24T08:17:15.986735",
     "status": "completed"
    },
    "tags": []
   },
   "outputs": [],
   "source": [
    "predictions = best_model.predict(test_X)"
   ]
  },
  {
   "cell_type": "code",
   "execution_count": 28,
   "id": "c3a0d31c",
   "metadata": {
    "execution": {
     "iopub.execute_input": "2024-04-24T08:17:17.090361Z",
     "iopub.status.busy": "2024-04-24T08:17:17.089811Z",
     "iopub.status.idle": "2024-04-24T08:17:17.094794Z",
     "shell.execute_reply": "2024-04-24T08:17:17.093451Z"
    },
    "papermill": {
     "duration": 0.039915,
     "end_time": "2024-04-24T08:17:17.097136",
     "exception": false,
     "start_time": "2024-04-24T08:17:17.057221",
     "status": "completed"
    },
    "tags": []
   },
   "outputs": [],
   "source": [
    "predictions = np.round(predictions)"
   ]
  },
  {
   "cell_type": "code",
   "execution_count": 29,
   "id": "f36b460d",
   "metadata": {
    "execution": {
     "iopub.execute_input": "2024-04-24T08:17:17.163386Z",
     "iopub.status.busy": "2024-04-24T08:17:17.163082Z",
     "iopub.status.idle": "2024-04-24T08:17:17.427301Z",
     "shell.execute_reply": "2024-04-24T08:17:17.426530Z"
    },
    "papermill": {
     "duration": 0.299225,
     "end_time": "2024-04-24T08:17:17.429495",
     "exception": false,
     "start_time": "2024-04-24T08:17:17.130270",
     "status": "completed"
    },
    "tags": []
   },
   "outputs": [],
   "source": [
    "from sklearn.metrics import accuracy_score, precision_score, recall_score, f1_score, confusion_matrix, classification_report\n",
    "import seaborn as sns"
   ]
  },
  {
   "cell_type": "code",
   "execution_count": 30,
   "id": "ea740ec3",
   "metadata": {
    "execution": {
     "iopub.execute_input": "2024-04-24T08:17:17.536498Z",
     "iopub.status.busy": "2024-04-24T08:17:17.535622Z",
     "iopub.status.idle": "2024-04-24T08:17:17.541851Z",
     "shell.execute_reply": "2024-04-24T08:17:17.541002Z"
    },
    "papermill": {
     "duration": 0.041824,
     "end_time": "2024-04-24T08:17:17.543893",
     "exception": false,
     "start_time": "2024-04-24T08:17:17.502069",
     "status": "completed"
    },
    "tags": []
   },
   "outputs": [],
   "source": [
    "def get_score(y_pred, y_true):\n",
    "    print(\"Accuracy score - \", accuracy_score(y_pred, y_true))\n",
    "    print(\"Precision score - \", precision_score(y_pred, y_true))\n",
    "    print(\"Recall score - \", recall_score(y_pred, y_true))\n",
    "    print(\"f1 score - \", f1_score(y_pred, y_true))\n",
    "    print(\"----------  Classification Report   -------\")\n",
    "    print(classification_report(y_pred, y_true))\n",
    "    \n",
    "    matrix = confusion_matrix(y_pred, y_true)\n",
    "    sns.heatmap(matrix, cmap='Blues', annot=True, fmt='d')"
   ]
  },
  {
   "cell_type": "code",
   "execution_count": null,
   "id": "94dc48cd",
   "metadata": {
    "_kg_hide-output": true,
    "execution": {
     "iopub.execute_input": "2024-04-24T08:17:17.608637Z",
     "iopub.status.busy": "2024-04-24T08:17:17.608355Z",
     "iopub.status.idle": "2024-04-24T08:17:19.357630Z",
     "shell.execute_reply": "2024-04-24T08:17:19.356734Z"
    },
    "papermill": {
     "duration": 1.784331,
     "end_time": "2024-04-24T08:17:19.359904",
     "exception": false,
     "start_time": "2024-04-24T08:17:17.575573",
     "status": "completed"
    },
    "scrolled": true,
    "tags": []
   },
   "outputs": [],
   "source": [
    "y_pred = model.predict(train_X)\n",
    "y_pred"
   ]
  },
  {
   "cell_type": "code",
   "execution_count": null,
   "id": "47905e87",
   "metadata": {
    "execution": {
     "iopub.execute_input": "2024-04-24T08:17:19.427373Z",
     "iopub.status.busy": "2024-04-24T08:17:19.426866Z",
     "iopub.status.idle": "2024-04-24T08:17:19.649970Z",
     "shell.execute_reply": "2024-04-24T08:17:19.649032Z"
    },
    "papermill": {
     "duration": 0.258724,
     "end_time": "2024-04-24T08:17:19.651933",
     "exception": false,
     "start_time": "2024-04-24T08:17:19.393209",
     "status": "completed"
    },
    "tags": []
   },
   "outputs": [],
   "source": [
    "y_pred = np.round(y_pred)\n",
    "get_score(y_pred, train_y)"
   ]
  },
  {
   "cell_type": "code",
   "execution_count": null,
   "id": "59c10424",
   "metadata": {
    "papermill": {
     "duration": 0.032399,
     "end_time": "2024-04-24T08:17:19.717815",
     "exception": false,
     "start_time": "2024-04-24T08:17:19.685416",
     "status": "completed"
    },
    "tags": []
   },
   "outputs": [],
   "source": []
  },
  {
   "cell_type": "code",
   "execution_count": null,
   "id": "2903e789",
   "metadata": {
    "execution": {
     "iopub.execute_input": "2024-04-24T08:17:19.786224Z",
     "iopub.status.busy": "2024-04-24T08:17:19.785357Z",
     "iopub.status.idle": "2024-04-24T08:17:20.014875Z",
     "shell.execute_reply": "2024-04-24T08:17:20.013922Z"
    },
    "papermill": {
     "duration": 0.265468,
     "end_time": "2024-04-24T08:17:20.016919",
     "exception": false,
     "start_time": "2024-04-24T08:17:19.751451",
     "status": "completed"
    },
    "tags": []
   },
   "outputs": [],
   "source": [
    "get_score(predictions, test_y)"
   ]
  },
  {
   "cell_type": "code",
   "execution_count": null,
   "id": "cf3e1459",
   "metadata": {
    "papermill": {
     "duration": 0.03303,
     "end_time": "2024-04-24T08:17:20.083714",
     "exception": false,
     "start_time": "2024-04-24T08:17:20.050684",
     "status": "completed"
    },
    "tags": []
   },
   "outputs": [],
   "source": []
  },
  {
   "cell_type": "code",
   "execution_count": null,
   "id": "78399258",
   "metadata": {
    "papermill": {
     "duration": 0.032928,
     "end_time": "2024-04-24T08:17:20.151032",
     "exception": false,
     "start_time": "2024-04-24T08:17:20.118104",
     "status": "completed"
    },
    "tags": []
   },
   "outputs": [],
   "source": []
  }
 ],
 "metadata": {
  "kaggle": {
   "accelerator": "gpu",
   "dataSources": [
    {
     "datasetId": 4819155,
     "sourceId": 8148801,
     "sourceType": "datasetVersion"
    }
   ],
   "dockerImageVersionId": 30684,
   "isGpuEnabled": true,
   "isInternetEnabled": true,
   "language": "python",
   "sourceType": "notebook"
  },
  "kernelspec": {
   "display_name": "Python 3",
   "language": "python",
   "name": "python3"
  },
  "language_info": {
   "codemirror_mode": {
    "name": "ipython",
    "version": 3
   },
   "file_extension": ".py",
   "mimetype": "text/x-python",
   "name": "python",
   "nbconvert_exporter": "python",
   "pygments_lexer": "ipython3",
   "version": "3.10.5"
  },
  "papermill": {
   "default_parameters": {},
   "duration": 58.195105,
   "end_time": "2024-04-24T08:17:22.732232",
   "environment_variables": {},
   "exception": null,
   "input_path": "__notebook__.ipynb",
   "output_path": "__notebook__.ipynb",
   "parameters": {},
   "start_time": "2024-04-24T08:16:24.537127",
   "version": "2.5.0"
  }
 },
 "nbformat": 4,
 "nbformat_minor": 5
}
